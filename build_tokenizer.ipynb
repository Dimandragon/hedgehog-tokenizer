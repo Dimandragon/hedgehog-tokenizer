{
  "nbformat": 4,
  "nbformat_minor": 0,
  "metadata": {
    "colab": {
      "provenance": [],
      "authorship_tag": "ABX9TyOYsv98HJFlNk6tW4u7cIZq",
      "include_colab_link": true
    },
    "kernelspec": {
      "name": "python3",
      "display_name": "Python 3"
    },
    "language_info": {
      "name": "python"
    }
  },
  "cells": [
    {
      "cell_type": "markdown",
      "metadata": {
        "id": "view-in-github",
        "colab_type": "text"
      },
      "source": [
        "<a href=\"https://colab.research.google.com/github/Dimandragon/hedgehog-tokenizer/blob/main/build_tokenizer.ipynb\" target=\"_parent\"><img src=\"https://colab.research.google.com/assets/colab-badge.svg\" alt=\"Open In Colab\"/></a>"
      ]
    },
    {
      "cell_type": "code",
      "execution_count": 1,
      "metadata": {
        "colab": {
          "base_uri": "https://localhost:8080/"
        },
        "id": "BxfC7S2wUdeo",
        "outputId": "a3e38d04-7ed6-4179-e710-f380d230fb33"
      },
      "outputs": [
        {
          "output_type": "stream",
          "name": "stdout",
          "text": [
            "Cloning into 'hedgehog-tokenizer'...\n",
            "remote: Enumerating objects: 47, done.\u001b[K\n",
            "remote: Counting objects: 100% (47/47), done.\u001b[K\n",
            "remote: Compressing objects: 100% (31/31), done.\u001b[K\n",
            "remote: Total 47 (delta 21), reused 37 (delta 11), pack-reused 0\u001b[K\n",
            "Receiving objects: 100% (47/47), 524.96 KiB | 6.32 MiB/s, done.\n",
            "Resolving deltas: 100% (21/21), done.\n"
          ]
        }
      ],
      "source": [
        "!git clone https://github.com/Dimandragon/hedgehog-tokenizer.git"
      ]
    },
    {
      "cell_type": "code",
      "source": [
        "!cat /etc/*release"
      ],
      "metadata": {
        "colab": {
          "base_uri": "https://localhost:8080/"
        },
        "id": "NQa7toDVVZUn",
        "outputId": "02ad4675-20b9-4532-d708-4ca8cee32e51"
      },
      "execution_count": 4,
      "outputs": [
        {
          "output_type": "stream",
          "name": "stdout",
          "text": [
            "DISTRIB_ID=Ubuntu\n",
            "DISTRIB_RELEASE=22.04\n",
            "DISTRIB_CODENAME=jammy\n",
            "DISTRIB_DESCRIPTION=\"Ubuntu 22.04.3 LTS\"\n",
            "PRETTY_NAME=\"Ubuntu 22.04.3 LTS\"\n",
            "NAME=\"Ubuntu\"\n",
            "VERSION_ID=\"22.04\"\n",
            "VERSION=\"22.04.3 LTS (Jammy Jellyfish)\"\n",
            "VERSION_CODENAME=jammy\n",
            "ID=ubuntu\n",
            "ID_LIKE=debian\n",
            "HOME_URL=\"https://www.ubuntu.com/\"\n",
            "SUPPORT_URL=\"https://help.ubuntu.com/\"\n",
            "BUG_REPORT_URL=\"https://bugs.launchpad.net/ubuntu/\"\n",
            "PRIVACY_POLICY_URL=\"https://www.ubuntu.com/legal/terms-and-policies/privacy-policy\"\n",
            "UBUNTU_CODENAME=jammy\n"
          ]
        }
      ]
    },
    {
      "cell_type": "code",
      "source": [
        "!apt-get install swig\n",
        "!swig --version\n"
      ],
      "metadata": {
        "colab": {
          "base_uri": "https://localhost:8080/"
        },
        "id": "IeZ6CAUPUj8r",
        "outputId": "585c270b-5268-4b63-f24e-4634fe06815f"
      },
      "execution_count": 2,
      "outputs": [
        {
          "output_type": "stream",
          "name": "stdout",
          "text": [
            "Reading package lists... Done\n",
            "Building dependency tree... Done\n",
            "Reading state information... Done\n",
            "The following additional packages will be installed:\n",
            "  swig4.0\n",
            "Suggested packages:\n",
            "  swig-doc swig-examples swig4.0-examples swig4.0-doc\n",
            "The following NEW packages will be installed:\n",
            "  swig swig4.0\n",
            "0 upgraded, 2 newly installed, 0 to remove and 45 not upgraded.\n",
            "Need to get 1,116 kB of archives.\n",
            "After this operation, 5,542 kB of additional disk space will be used.\n",
            "Get:1 http://archive.ubuntu.com/ubuntu jammy/universe amd64 swig4.0 amd64 4.0.2-1ubuntu1 [1,110 kB]\n",
            "Get:2 http://archive.ubuntu.com/ubuntu jammy/universe amd64 swig all 4.0.2-1ubuntu1 [5,632 B]\n",
            "Fetched 1,116 kB in 2s (742 kB/s)\n",
            "Selecting previously unselected package swig4.0.\n",
            "(Reading database ... 121925 files and directories currently installed.)\n",
            "Preparing to unpack .../swig4.0_4.0.2-1ubuntu1_amd64.deb ...\n",
            "Unpacking swig4.0 (4.0.2-1ubuntu1) ...\n",
            "Selecting previously unselected package swig.\n",
            "Preparing to unpack .../swig_4.0.2-1ubuntu1_all.deb ...\n",
            "Unpacking swig (4.0.2-1ubuntu1) ...\n",
            "Setting up swig4.0 (4.0.2-1ubuntu1) ...\n",
            "Setting up swig (4.0.2-1ubuntu1) ...\n",
            "Processing triggers for man-db (2.10.2-1) ...\n",
            "Unable to find option or file '--version', Use 'swig -help' for more information.\n"
          ]
        }
      ]
    },
    {
      "cell_type": "code",
      "source": [
        "!sudo apt install gcc-12\n",
        "!sudo apt install g++-12"
      ],
      "metadata": {
        "colab": {
          "base_uri": "https://localhost:8080/"
        },
        "id": "eIfle-j-VEAX",
        "outputId": "2546a68e-4e6c-4ef2-f8cf-1339aacad1e5"
      },
      "execution_count": 3,
      "outputs": [
        {
          "output_type": "stream",
          "name": "stdout",
          "text": [
            "Reading package lists... Done\n",
            "Building dependency tree... Done\n",
            "Reading state information... Done\n",
            "The following additional packages will be installed:\n",
            "  cpp-12 libasan8 libgcc-12-dev libtsan2\n",
            "Suggested packages:\n",
            "  gcc-12-locales cpp-12-doc gcc-12-multilib gcc-12-doc\n",
            "The following NEW packages will be installed:\n",
            "  cpp-12 gcc-12 libasan8 libgcc-12-dev libtsan2\n",
            "0 upgraded, 5 newly installed, 0 to remove and 45 not upgraded.\n",
            "Need to get 40.1 MB of archives.\n",
            "After this operation, 138 MB of additional disk space will be used.\n",
            "Get:1 http://archive.ubuntu.com/ubuntu jammy-updates/main amd64 cpp-12 amd64 12.3.0-1ubuntu1~22.04 [10.8 MB]\n",
            "Get:2 http://archive.ubuntu.com/ubuntu jammy-updates/main amd64 libasan8 amd64 12.3.0-1ubuntu1~22.04 [2,442 kB]\n",
            "Get:3 http://archive.ubuntu.com/ubuntu jammy-updates/main amd64 libtsan2 amd64 12.3.0-1ubuntu1~22.04 [2,477 kB]\n",
            "Get:4 http://archive.ubuntu.com/ubuntu jammy-updates/main amd64 libgcc-12-dev amd64 12.3.0-1ubuntu1~22.04 [2,618 kB]\n",
            "Get:5 http://archive.ubuntu.com/ubuntu jammy-updates/main amd64 gcc-12 amd64 12.3.0-1ubuntu1~22.04 [21.7 MB]\n",
            "Fetched 40.1 MB in 3s (11.9 MB/s)\n",
            "debconf: unable to initialize frontend: Dialog\n",
            "debconf: (No usable dialog-like program is installed, so the dialog based frontend cannot be used. at /usr/share/perl5/Debconf/FrontEnd/Dialog.pm line 78, <> line 5.)\n",
            "debconf: falling back to frontend: Readline\n",
            "debconf: unable to initialize frontend: Readline\n",
            "debconf: (This frontend requires a controlling tty.)\n",
            "debconf: falling back to frontend: Teletype\n",
            "dpkg-preconfigure: unable to re-open stdin: \n",
            "Selecting previously unselected package cpp-12.\n",
            "(Reading database ... 122678 files and directories currently installed.)\n",
            "Preparing to unpack .../cpp-12_12.3.0-1ubuntu1~22.04_amd64.deb ...\n",
            "Unpacking cpp-12 (12.3.0-1ubuntu1~22.04) ...\n",
            "Selecting previously unselected package libasan8:amd64.\n",
            "Preparing to unpack .../libasan8_12.3.0-1ubuntu1~22.04_amd64.deb ...\n",
            "Unpacking libasan8:amd64 (12.3.0-1ubuntu1~22.04) ...\n",
            "Selecting previously unselected package libtsan2:amd64.\n",
            "Preparing to unpack .../libtsan2_12.3.0-1ubuntu1~22.04_amd64.deb ...\n",
            "Unpacking libtsan2:amd64 (12.3.0-1ubuntu1~22.04) ...\n",
            "Selecting previously unselected package libgcc-12-dev:amd64.\n",
            "Preparing to unpack .../libgcc-12-dev_12.3.0-1ubuntu1~22.04_amd64.deb ...\n",
            "Unpacking libgcc-12-dev:amd64 (12.3.0-1ubuntu1~22.04) ...\n",
            "Selecting previously unselected package gcc-12.\n",
            "Preparing to unpack .../gcc-12_12.3.0-1ubuntu1~22.04_amd64.deb ...\n",
            "Unpacking gcc-12 (12.3.0-1ubuntu1~22.04) ...\n",
            "Setting up cpp-12 (12.3.0-1ubuntu1~22.04) ...\n",
            "Setting up libasan8:amd64 (12.3.0-1ubuntu1~22.04) ...\n",
            "Setting up libtsan2:amd64 (12.3.0-1ubuntu1~22.04) ...\n",
            "Setting up libgcc-12-dev:amd64 (12.3.0-1ubuntu1~22.04) ...\n",
            "Setting up gcc-12 (12.3.0-1ubuntu1~22.04) ...\n",
            "Processing triggers for man-db (2.10.2-1) ...\n",
            "Processing triggers for libc-bin (2.35-0ubuntu3.4) ...\n",
            "/sbin/ldconfig.real: /usr/local/lib/libtbbbind.so.3 is not a symbolic link\n",
            "\n",
            "/sbin/ldconfig.real: /usr/local/lib/libtbbmalloc_proxy.so.2 is not a symbolic link\n",
            "\n",
            "/sbin/ldconfig.real: /usr/local/lib/libtbbmalloc.so.2 is not a symbolic link\n",
            "\n",
            "/sbin/ldconfig.real: /usr/local/lib/libtbbbind_2_5.so.3 is not a symbolic link\n",
            "\n",
            "/sbin/ldconfig.real: /usr/local/lib/libtbb.so.12 is not a symbolic link\n",
            "\n",
            "/sbin/ldconfig.real: /usr/local/lib/libtbbbind_2_0.so.3 is not a symbolic link\n",
            "\n",
            "Reading package lists... Done\n",
            "Building dependency tree... Done\n",
            "Reading state information... Done\n",
            "The following additional packages will be installed:\n",
            "  libstdc++-12-dev\n",
            "Suggested packages:\n",
            "  g++-12-multilib gcc-12-doc libstdc++-12-doc\n",
            "The following NEW packages will be installed:\n",
            "  g++-12 libstdc++-12-dev\n",
            "0 upgraded, 2 newly installed, 0 to remove and 45 not upgraded.\n",
            "Need to get 14.4 MB of archives.\n",
            "After this operation, 58.2 MB of additional disk space will be used.\n",
            "Get:1 http://archive.ubuntu.com/ubuntu jammy-updates/universe amd64 libstdc++-12-dev amd64 12.3.0-1ubuntu1~22.04 [2,192 kB]\n",
            "Get:2 http://archive.ubuntu.com/ubuntu jammy-updates/universe amd64 g++-12 amd64 12.3.0-1ubuntu1~22.04 [12.2 MB]\n",
            "Fetched 14.4 MB in 2s (6,851 kB/s)\n",
            "debconf: unable to initialize frontend: Dialog\n",
            "debconf: (No usable dialog-like program is installed, so the dialog based frontend cannot be used. at /usr/share/perl5/Debconf/FrontEnd/Dialog.pm line 78, <> line 2.)\n",
            "debconf: falling back to frontend: Readline\n",
            "debconf: unable to initialize frontend: Readline\n",
            "debconf: (This frontend requires a controlling tty.)\n",
            "debconf: falling back to frontend: Teletype\n",
            "dpkg-preconfigure: unable to re-open stdin: \n",
            "Selecting previously unselected package libstdc++-12-dev:amd64.\n",
            "(Reading database ... 122920 files and directories currently installed.)\n",
            "Preparing to unpack .../libstdc++-12-dev_12.3.0-1ubuntu1~22.04_amd64.deb ...\n",
            "Unpacking libstdc++-12-dev:amd64 (12.3.0-1ubuntu1~22.04) ...\n",
            "Selecting previously unselected package g++-12.\n",
            "Preparing to unpack .../g++-12_12.3.0-1ubuntu1~22.04_amd64.deb ...\n",
            "Unpacking g++-12 (12.3.0-1ubuntu1~22.04) ...\n",
            "Setting up libstdc++-12-dev:amd64 (12.3.0-1ubuntu1~22.04) ...\n",
            "Setting up g++-12 (12.3.0-1ubuntu1~22.04) ...\n",
            "Processing triggers for man-db (2.10.2-1) ...\n"
          ]
        }
      ]
    },
    {
      "cell_type": "code",
      "source": [
        "!curl -fsSL https://xmake.io/shget.text | bash"
      ],
      "metadata": {
        "colab": {
          "base_uri": "https://localhost:8080/"
        },
        "id": "tyIWhba5UoRz",
        "outputId": "e231618d-f404-4685-ed99-7a49bc751cff"
      },
      "execution_count": 6,
      "outputs": [
        {
          "output_type": "stream",
          "name": "stdout",
          "text": [
            "xmake, A cross-platform build utility based on Lua.   \n",
            "Copyright (C) 2015-present Ruki Wang, tboox.org, xmake.io\n",
            "                         _                            \n",
            "    __  ___ __  __  __ _| | ______                    \n",
            "    \\ \\/ / |  \\/  |/ _  | |/ / __ \\                   \n",
            "     >  <  | \\__/ | /_| |   <  ___/                   \n",
            "    /_/\\_\\_|_|  |_|\\__ \\|_|\\_\\____|                   \n",
            "                         by ruki, xmake.io            \n",
            "                                                      \n",
            "   👉  Manual: https://xmake.io/#/getting_started     \n",
            "   🙏  Donate: https://xmake.io/#/sponsor             \n",
            "                                                      \n",
            "downloading https://fastly.jsdelivr.net/gh/xmake-mirror/xmake-releases@v2.9.3/xmake-v2.9.3.gz.run ..\n",
            "  % Total    % Received % Xferd  Average Speed   Time    Time     Time  Current\n",
            "                                 Dload  Upload   Total   Spent    Left  Speed\n",
            "100 2767k  100 2767k    0     0  9501k      0 --:--:-- --:--:-- --:--:-- 9510k\n",
            "checking for platform ... linux\n",
            "checking for architecture ... x86_64\n",
            "checking for make ... ok\n",
            "checking for the c compiler (cc) ... gcc\n",
            "checking for the c++ compiler (cxx) ... gcc\n",
            "checking for the assembler (as) ... gcc\n",
            "checking for the objc compiler (mm) ... gcc\n",
            "checking for the objc++ compiler (mxx) ... gcc\n",
            "checking for the linker (ld) ... g++\n",
            "checking for the static library archiver (ar) ... ar\n",
            "checking for the shared library linker (sh) ... g++\n",
            "checking for toolchain ... gcc\n",
            "checking for readline .. ok\n",
            "checking for curses .. ok\n",
            "checking for atomic .. ok\n",
            "checking for lua .. no\n",
            "checking for luajit .. no\n",
            "checking for lz4 .. ok\n",
            "checking for sv .. no\n",
            "checking for tbox .. no\n",
            "checking for wchar .. no\n",
            "analyzing project configuration ..\n",
            "generating build/linux/x86_64/release/xmake.config.h ..\n",
            "build/linux/x86_64/release/xmake.config.h is generated!\n",
            "generating makefile ..\n",
            "makefile is generated!\n",
            "/content\n",
            "compiling.release core/src/lua/lua/lapi.c\n",
            "compiling.release core/src/lua/lua/lauxlib.c\n",
            "compiling.release core/src/lua/lua/lbaselib.c\n",
            "compiling.release core/src/lua/lua/lcode.c\n",
            "compiling.release core/src/lua/lua/lcorolib.c\n",
            "compiling.release core/src/lua/lua/lctype.c\n",
            "compiling.release core/src/lua/lua/ldblib.c\n",
            "compiling.release core/src/lua/lua/ldebug.c\n",
            "compiling.release core/src/lua/lua/ldo.c\n",
            "compiling.release core/src/lua/lua/ldump.c\n",
            "compiling.release core/src/lua/lua/lfunc.c\n",
            "compiling.release core/src/lua/lua/lgc.c\n",
            "compiling.release core/src/lua/lua/linit.c\n",
            "compiling.release core/src/lua/lua/liolib.c\n",
            "compiling.release core/src/lua/lua/llex.c\n",
            "compiling.release core/src/lua/lua/lmathlib.c\n",
            "compiling.release core/src/lua/lua/lmem.c\n",
            "compiling.release core/src/lua/lua/loadlib.c\n",
            "compiling.release core/src/lua/lua/lobject.c\n",
            "compiling.release core/src/lua/lua/lopcodes.c\n",
            "compiling.release core/src/lua/lua/loslib.c\n",
            "compiling.release core/src/lua/lua/lparser.c\n",
            "compiling.release core/src/lua/lua/lstate.c\n",
            "compiling.release core/src/lua/lua/lstring.c\n",
            "compiling.release core/src/lua/lua/lstrlib.c\n",
            "compiling.release core/src/lua/lua/ltable.c\n",
            "compiling.release core/src/lua/lua/ltablib.c\n",
            "compiling.release core/src/lua/lua/ltm.c\n",
            "compiling.release core/src/lua/lua/lundump.c\n",
            "compiling.release core/src/lua/lua/lutf8lib.c\n",
            "compiling.release core/src/lua/lua/lvm.c\n",
            "compiling.release core/src/lua/lua/lzio.c\n",
            "linking.release build/linux/x86_64/release/liblua.a\n",
            "compiling.release core/src/lua-cjson/lua-cjson/dtoa.c\n",
            "\u001b[01m\u001b[Kcore/src/lua-cjson/lua-cjson/dtoa.c:\u001b[m\u001b[K In function ‘\u001b[01m\u001b[Kdtoa\u001b[m\u001b[K’:\n",
            "\u001b[01m\u001b[Kcore/src/lua-cjson/lua-cjson/dtoa.c:3974:56:\u001b[m\u001b[K \u001b[01;35m\u001b[Kwarning: \u001b[m\u001b[K‘\u001b[01m\u001b[Kj1\u001b[m\u001b[K’ may be used uninitialized in this function [\u001b[01;35m\u001b[K\u001b]8;;https://gcc.gnu.org/onlinedocs/gcc/Warning-Options.html#index-Wmaybe-uninitialized\u0007-Wmaybe-uninitialized\u001b]8;;\u0007\u001b[m\u001b[K]\n",
            " 3974 |                                 dval(&eps1) *= tens[\u001b[01;35m\u001b[Kj1 & 0xf\u001b[m\u001b[K];\n",
            "      |                                                     \u001b[01;35m\u001b[K~~~^~~~~\u001b[m\u001b[K\n",
            "compiling.release core/src/lua-cjson/lua-cjson/lua_cjson.c\n",
            "compiling.release core/src/lua-cjson/lua-cjson/strbuf.c\n",
            "compiling.release core/src/lua-cjson/lua-cjson/g_fmt.c\n",
            "linking.release build/linux/x86_64/release/liblua_cjson.a\n",
            "compiling.release core/src/lz4/lz4/lib/lz4.c\n",
            "compiling.release core/src/lz4/lz4/lib/lz4frame.c\n",
            "compiling.release core/src/lz4/lz4/lib/lz4hc.c\n",
            "compiling.release core/src/lz4/lz4/lib/xxhash.c\n",
            "linking.release build/linux/x86_64/release/liblz4.a\n",
            "compiling.release core/src/sv/sv/src/version.c\n",
            "compiling.release core/src/sv/sv/src/range.c\n",
            "compiling.release core/src/sv/sv/src/id.c\n",
            "compiling.release core/src/sv/sv/src/comp.c\n",
            "compiling.release core/src/sv/sv/src/utils.c\n",
            "compiling.release core/src/sv/sv/src/semvers.c\n",
            "compiling.release core/src/sv/sv/src/num.c\n",
            "linking.release build/linux/x86_64/release/libsv.a\n",
            "compiling.release core/src/tbox/tbox/src/tbox/tbox.c\n",
            "compiling.release core/src/tbox/tbox/src/tbox/hash/bkdr.c\n",
            "compiling.release core/src/tbox/tbox/src/tbox/hash/fnv32.c\n",
            "compiling.release core/src/tbox/tbox/src/tbox/hash/adler32.c\n",
            "compiling.release core/src/tbox/tbox/src/tbox/math/int32.c\n",
            "compiling.release core/src/tbox/tbox/src/tbox/math/random/linear.c\n",
            "compiling.release core/src/tbox/tbox/src/tbox/math/random/random.c\n",
            "compiling.release core/src/tbox/tbox/src/tbox/math/fixed16.c\n",
            "compiling.release core/src/tbox/tbox/src/tbox/math/impl/math.c\n",
            "compiling.release core/src/tbox/tbox/src/tbox/libc/misc/time/localtime.c\n",
            "compiling.release core/src/tbox/tbox/src/tbox/libc/misc/time/gmmktime.c\n",
            "compiling.release core/src/tbox/tbox/src/tbox/libc/misc/time/gmtime.c\n",
            "compiling.release core/src/tbox/tbox/src/tbox/libc/misc/time/mktime.c\n",
            "compiling.release core/src/tbox/tbox/src/tbox/libc/misc/time/time.c\n",
            "compiling.release core/src/tbox/tbox/src/tbox/libc/stdio/printf_object.c\n",
            "compiling.release core/src/tbox/tbox/src/tbox/libc/stdio/vswprintf.c\n",
            "compiling.release core/src/tbox/tbox/src/tbox/libc/stdio/puts.c\n",
            "compiling.release core/src/tbox/tbox/src/tbox/libc/stdio/wprintf.c\n",
            "compiling.release core/src/tbox/tbox/src/tbox/libc/stdio/vsnprintf.c\n",
            "compiling.release core/src/tbox/tbox/src/tbox/libc/stdio/getchar.c\n",
            "compiling.release core/src/tbox/tbox/src/tbox/libc/stdio/sprintf.c\n",
            "compiling.release core/src/tbox/tbox/src/tbox/libc/stdio/swprintf.c\n",
            "compiling.release core/src/tbox/tbox/src/tbox/libc/stdio/printf.c\n",
            "compiling.release core/src/tbox/tbox/src/tbox/libc/stdio/wputs.c\n",
            "compiling.release core/src/tbox/tbox/src/tbox/libc/stdio/putchar.c\n",
            "compiling.release core/src/tbox/tbox/src/tbox/libc/stdio/snprintf.c\n",
            "compiling.release core/src/tbox/tbox/src/tbox/libc/stdlib/wcstombs.c\n",
            "compiling.release core/src/tbox/tbox/src/tbox/libc/stdlib/random.c\n",
            "compiling.release core/src/tbox/tbox/src/tbox/libc/stdlib/mbstowcs.c\n",
            "compiling.release core/src/tbox/tbox/src/tbox/libc/stdlib/stdlib.c\n",
            "compiling.release core/src/tbox/tbox/src/tbox/libc/string/wcsrstr.c\n",
            "compiling.release core/src/tbox/tbox/src/tbox/libc/string/wcsndup.c\n",
            "compiling.release core/src/tbox/tbox/src/tbox/libc/string/strnirchr.c\n",
            "compiling.release core/src/tbox/tbox/src/tbox/libc/string/strirstr.c\n",
            "compiling.release core/src/tbox/tbox/src/tbox/libc/string/strichr.c\n",
            "compiling.release core/src/tbox/tbox/src/tbox/libc/string/wcscmp.c\n",
            "compiling.release core/src/tbox/tbox/src/tbox/libc/string/strcat.c\n",
            "compiling.release core/src/tbox/tbox/src/tbox/libc/string/wcsnlen.c\n",
            "compiling.release core/src/tbox/tbox/src/tbox/libc/string/strncpy.c\n",
            "compiling.release core/src/tbox/tbox/src/tbox/libc/string/wcsirstr.c\n",
            "compiling.release core/src/tbox/tbox/src/tbox/libc/string/memmov.c\n",
            "compiling.release core/src/tbox/tbox/src/tbox/libc/string/strnlen.c\n",
            "compiling.release core/src/tbox/tbox/src/tbox/libc/string/wcsrchr.c\n",
            "compiling.release core/src/tbox/tbox/src/tbox/libc/string/strirchr.c\n",
            "compiling.release core/src/tbox/tbox/src/tbox/libc/string/strstr.c\n",
            "compiling.release core/src/tbox/tbox/src/tbox/libc/string/wcschr.c\n",
            "compiling.release core/src/tbox/tbox/src/tbox/libc/string/wcsstr.c\n",
            "compiling.release core/src/tbox/tbox/src/tbox/libc/string/strnichr.c\n",
            "compiling.release core/src/tbox/tbox/src/tbox/libc/string/wcsnirchr.c\n",
            "compiling.release core/src/tbox/tbox/src/tbox/libc/string/memcpy.c\n",
            "compiling.release core/src/tbox/tbox/src/tbox/libc/string/wcsnrstr.c\n",
            "compiling.release core/src/tbox/tbox/src/tbox/libc/string/wcsistr.c\n",
            "compiling.release core/src/tbox/tbox/src/tbox/libc/string/wcsichr.c\n",
            "compiling.release core/src/tbox/tbox/src/tbox/libc/string/strcpy.c\n",
            "compiling.release core/src/tbox/tbox/src/tbox/libc/string/strlcpy.c\n",
            "compiling.release core/src/tbox/tbox/src/tbox/libc/string/strndup.c\n",
            "compiling.release core/src/tbox/tbox/src/tbox/libc/string/strlen.c\n",
            "compiling.release core/src/tbox/tbox/src/tbox/libc/string/wcsncat.c\n",
            "compiling.release core/src/tbox/tbox/src/tbox/libc/string/stristr.c\n",
            "compiling.release core/src/tbox/tbox/src/tbox/libc/string/wcslcpy.c\n",
            "compiling.release core/src/tbox/tbox/src/tbox/libc/string/strnrchr.c\n",
            "compiling.release core/src/tbox/tbox/src/tbox/libc/string/strcmp.c\n",
            "compiling.release core/src/tbox/tbox/src/tbox/libc/string/strncat.c\n",
            "compiling.release core/src/tbox/tbox/src/tbox/libc/string/wcsnrchr.c\n",
            "compiling.release core/src/tbox/tbox/src/tbox/libc/string/wcscat.c\n",
            "compiling.release core/src/tbox/tbox/src/tbox/libc/string/wcsirchr.c\n",
            "compiling.release core/src/tbox/tbox/src/tbox/libc/string/wcsicmp.c\n",
            "compiling.release core/src/tbox/tbox/src/tbox/libc/string/strrstr.c\n",
            "compiling.release core/src/tbox/tbox/src/tbox/libc/string/memset.c\n",
            "compiling.release core/src/tbox/tbox/src/tbox/libc/string/memdup.c\n",
            "compiling.release core/src/tbox/tbox/src/tbox/libc/string/strnchr.c\n",
            "compiling.release core/src/tbox/tbox/src/tbox/libc/string/memmem.c\n",
            "compiling.release core/src/tbox/tbox/src/tbox/libc/string/wcsdup.c\n",
            "compiling.release core/src/tbox/tbox/src/tbox/libc/string/strnicmp.c\n",
            "compiling.release core/src/tbox/tbox/src/tbox/libc/string/strdup.c\n",
            "compiling.release core/src/tbox/tbox/src/tbox/libc/string/wcsncmp.c\n",
            "compiling.release core/src/tbox/tbox/src/tbox/libc/string/wcslen.c\n",
            "compiling.release core/src/tbox/tbox/src/tbox/libc/string/wcsnicmp.c\n",
            "compiling.release core/src/tbox/tbox/src/tbox/libc/string/strnistr.c\n",
            "compiling.release core/src/tbox/tbox/src/tbox/libc/string/wcscpy.c\n",
            "compiling.release core/src/tbox/tbox/src/tbox/libc/string/strnrstr.c\n",
            "compiling.release core/src/tbox/tbox/src/tbox/libc/string/stricmp.c\n",
            "compiling.release core/src/tbox/tbox/src/tbox/libc/string/wcsnirstr.c\n",
            "compiling.release core/src/tbox/tbox/src/tbox/libc/string/memcmp.c\n",
            "compiling.release core/src/tbox/tbox/src/tbox/libc/string/wcsncpy.c\n",
            "compiling.release core/src/tbox/tbox/src/tbox/libc/string/strnstr.c\n",
            "compiling.release core/src/tbox/tbox/src/tbox/libc/string/strchr.c\n",
            "compiling.release core/src/tbox/tbox/src/tbox/libc/string/strnirstr.c\n",
            "compiling.release core/src/tbox/tbox/src/tbox/libc/string/strncmp.c\n",
            "compiling.release core/src/tbox/tbox/src/tbox/libc/string/strrchr.c\n",
            "compiling.release core/src/tbox/tbox/src/tbox/libc/impl/libc.c\n",
            "compiling.release core/src/tbox/tbox/src/tbox/utils/base32.c\n",
            "compiling.release core/src/tbox/tbox/src/tbox/utils/base64.c\n",
            "compiling.release core/src/tbox/tbox/src/tbox/utils/bits.c\n",
            "compiling.release core/src/tbox/tbox/src/tbox/utils/dump.c\n",
            "compiling.release core/src/tbox/tbox/src/tbox/utils/lock_profiler.c\n",
            "compiling.release core/src/tbox/tbox/src/tbox/utils/singleton.c\n",
            "compiling.release core/src/tbox/tbox/src/tbox/utils/trace.c\n",
            "compiling.release core/src/tbox/tbox/src/tbox/utils/url.c\n",
            "compiling.release core/src/tbox/tbox/src/tbox/utils/used.c\n",
            "compiling.release core/src/tbox/tbox/src/tbox/prefix/state.c\n",
            "compiling.release core/src/tbox/tbox/src/tbox/memory/native_allocator.c\n",
            "compiling.release core/src/tbox/tbox/src/tbox/memory/large_allocator.c\n",
            "compiling.release core/src/tbox/tbox/src/tbox/memory/static_allocator.c\n",
            "compiling.release core/src/tbox/tbox/src/tbox/memory/static_buffer.c\n",
            "compiling.release core/src/tbox/tbox/src/tbox/memory/string_pool.c\n",
            "compiling.release core/src/tbox/tbox/src/tbox/memory/queue_buffer.c\n",
            "compiling.release core/src/tbox/tbox/src/tbox/memory/allocator.c\n",
            "compiling.release core/src/tbox/tbox/src/tbox/memory/default_allocator.c\n",
            "compiling.release core/src/tbox/tbox/src/tbox/memory/fixed_pool.c\n",
            "compiling.release core/src/tbox/tbox/src/tbox/memory/small_allocator.c\n",
            "compiling.release core/src/tbox/tbox/src/tbox/memory/buffer.c\n",
            "compiling.release core/src/tbox/tbox/src/tbox/memory/virtual_allocator.c\n",
            "compiling.release core/src/tbox/tbox/src/tbox/memory/impl/prefix.c\n",
            "compiling.release core/src/tbox/tbox/src/tbox/memory/impl/native_large_allocator.c\n",
            "compiling.release core/src/tbox/tbox/src/tbox/memory/impl/memory.c\n",
            "compiling.release core/src/tbox/tbox/src/tbox/memory/impl/static_large_allocator.c\n",
            "compiling.release core/src/tbox/tbox/src/tbox/memory/impl/static_fixed_pool.c\n",
            "compiling.release core/src/tbox/tbox/src/tbox/string/string.c\n",
            "compiling.release core/src/tbox/tbox/src/tbox/string/static_string.c\n",
            "compiling.release core/src/tbox/tbox/src/tbox/stream/static_stream.c\n",
            "compiling.release core/src/tbox/tbox/src/tbox/stream/transfer.c\n",
            "compiling.release core/src/tbox/tbox/src/tbox/stream/stream.c\n",
            "compiling.release core/src/tbox/tbox/src/tbox/stream/filter.c\n",
            "compiling.release core/src/tbox/tbox/src/tbox/stream/impl/stream/file.c\n",
            "compiling.release core/src/tbox/tbox/src/tbox/stream/impl/stream/sock.c\n",
            "compiling.release core/src/tbox/tbox/src/tbox/stream/impl/stream/data.c\n",
            "compiling.release core/src/tbox/tbox/src/tbox/stream/impl/stream/http.c\n",
            "compiling.release core/src/tbox/tbox/src/tbox/stream/impl/stream/filter.c\n",
            "compiling.release core/src/tbox/tbox/src/tbox/stream/impl/filter/cache.c\n",
            "compiling.release core/src/tbox/tbox/src/tbox/stream/impl/filter/chunked.c\n",
            "compiling.release core/src/tbox/tbox/src/tbox/network/unixaddr.c\n",
            "compiling.release core/src/tbox/tbox/src/tbox/network/ipaddr.c\n",
            "compiling.release core/src/tbox/tbox/src/tbox/network/ipv6.c\n",
            "compiling.release core/src/tbox/tbox/src/tbox/network/url.c\n",
            "compiling.release core/src/tbox/tbox/src/tbox/network/http.c\n",
            "compiling.release core/src/tbox/tbox/src/tbox/network/cookies.c\n",
            "compiling.release core/src/tbox/tbox/src/tbox/network/ipv4.c\n",
            "compiling.release core/src/tbox/tbox/src/tbox/network/hwaddr.c\n",
            "compiling.release core/src/tbox/tbox/src/tbox/network/impl/network.c\n",
            "compiling.release core/src/tbox/tbox/src/tbox/network/impl/http/option.c\n",
            "compiling.release core/src/tbox/tbox/src/tbox/network/impl/http/date.c\n",
            "compiling.release core/src/tbox/tbox/src/tbox/network/impl/http/status.c\n",
            "compiling.release core/src/tbox/tbox/src/tbox/network/impl/http/method.c\n",
            "compiling.release core/src/tbox/tbox/src/tbox/network/dns/cache.c\n",
            "compiling.release core/src/tbox/tbox/src/tbox/network/dns/looker.c\n",
            "compiling.release core/src/tbox/tbox/src/tbox/network/dns/server.c\n",
            "compiling.release core/src/tbox/tbox/src/tbox/algorithm/remove.c\n",
            "compiling.release core/src/tbox/tbox/src/tbox/algorithm/walk.c\n",
            "compiling.release core/src/tbox/tbox/src/tbox/algorithm/distance.c\n",
            "compiling.release core/src/tbox/tbox/src/tbox/algorithm/bubble_sort.c\n",
            "compiling.release core/src/tbox/tbox/src/tbox/algorithm/find_if.c\n",
            "compiling.release core/src/tbox/tbox/src/tbox/algorithm/binary_find_if.c\n",
            "compiling.release core/src/tbox/tbox/src/tbox/algorithm/binary_find.c\n",
            "compiling.release core/src/tbox/tbox/src/tbox/algorithm/rfind_if.c\n",
            "compiling.release core/src/tbox/tbox/src/tbox/algorithm/heap_sort.c\n",
            "compiling.release core/src/tbox/tbox/src/tbox/algorithm/rwalk.c\n",
            "compiling.release core/src/tbox/tbox/src/tbox/algorithm/remove_first_if.c\n",
            "compiling.release core/src/tbox/tbox/src/tbox/algorithm/count_if.c\n",
            "compiling.release core/src/tbox/tbox/src/tbox/algorithm/rfind.c\n",
            "compiling.release core/src/tbox/tbox/src/tbox/algorithm/remove_first.c\n",
            "compiling.release core/src/tbox/tbox/src/tbox/algorithm/count.c\n",
            "compiling.release core/src/tbox/tbox/src/tbox/algorithm/sort.c\n",
            "compiling.release core/src/tbox/tbox/src/tbox/algorithm/insert_sort.c\n",
            "compiling.release core/src/tbox/tbox/src/tbox/algorithm/find.c\n",
            "compiling.release core/src/tbox/tbox/src/tbox/algorithm/remove_if.c\n",
            "compiling.release core/src/tbox/tbox/src/tbox/algorithm/predicate.c\n",
            "compiling.release core/src/tbox/tbox/src/tbox/algorithm/quick_sort.c\n",
            "compiling.release core/src/tbox/tbox/src/tbox/container/priority_queue.c\n",
            "compiling.release core/src/tbox/tbox/src/tbox/container/heap.c\n",
            "compiling.release core/src/tbox/tbox/src/tbox/container/stack.c\n",
            "compiling.release core/src/tbox/tbox/src/tbox/container/circle_queue.c\n",
            "compiling.release core/src/tbox/tbox/src/tbox/container/iterator.c\n",
            "compiling.release core/src/tbox/tbox/src/tbox/container/bloom_filter.c\n",
            "compiling.release core/src/tbox/tbox/src/tbox/container/array_iterator.c\n",
            "compiling.release core/src/tbox/tbox/src/tbox/container/vector.c\n",
            "compiling.release core/src/tbox/tbox/src/tbox/container/hash_set.c\n",
            "compiling.release core/src/tbox/tbox/src/tbox/container/single_list.c\n",
            "compiling.release core/src/tbox/tbox/src/tbox/container/hash_map.c\n",
            "compiling.release core/src/tbox/tbox/src/tbox/container/list.c\n",
            "compiling.release core/src/tbox/tbox/src/tbox/container/queue.c\n",
            "compiling.release core/src/tbox/tbox/src/tbox/container/single_list_entry.c\n",
            "compiling.release core/src/tbox/tbox/src/tbox/container/list_entry.c\n",
            "compiling.release core/src/tbox/tbox/src/tbox/container/element/hash.c\n",
            "compiling.release core/src/tbox/tbox/src/tbox/container/element/long.c\n",
            "compiling.release core/src/tbox/tbox/src/tbox/container/element/null.c\n",
            "compiling.release core/src/tbox/tbox/src/tbox/container/element/size.c\n",
            "compiling.release core/src/tbox/tbox/src/tbox/container/element/true.c\n",
            "compiling.release core/src/tbox/tbox/src/tbox/container/element/uint8.c\n",
            "compiling.release core/src/tbox/tbox/src/tbox/container/element/uint16.c\n",
            "compiling.release core/src/tbox/tbox/src/tbox/container/element/uint32.c\n",
            "compiling.release core/src/tbox/tbox/src/tbox/container/element/mem.c\n",
            "compiling.release core/src/tbox/tbox/src/tbox/container/element/ptr.c\n",
            "compiling.release core/src/tbox/tbox/src/tbox/container/element/str.c\n",
            "compiling.release core/src/tbox/tbox/src/tbox/libm/impl/libm.c\n",
            "compiling.release core/src/tbox/tbox/src/tbox/libm/ilog2i.c\n",
            "compiling.release core/src/tbox/tbox/src/tbox/libm/isqrti.c\n",
            "compiling.release core/src/tbox/tbox/src/tbox/libm/isqrti64.c\n",
            "compiling.release core/src/tbox/tbox/src/tbox/libm/idivi8.c\n",
            "compiling.release core/src/tbox/tbox/src/tbox/platform/addrinfo.c\n",
            "compiling.release core/src/tbox/tbox/src/tbox/platform/atomic64.c\n",
            "compiling.release core/src/tbox/tbox/src/tbox/platform/backtrace.c\n",
            "compiling.release core/src/tbox/tbox/src/tbox/platform/cache_time.c\n",
            "compiling.release core/src/tbox/tbox/src/tbox/platform/cpu.c\n",
            "compiling.release core/src/tbox/tbox/src/tbox/platform/directory.c\n",
            "compiling.release core/src/tbox/tbox/src/tbox/platform/dynamic.c\n",
            "compiling.release core/src/tbox/tbox/src/tbox/platform/environment.c\n",
            "compiling.release core/src/tbox/tbox/src/tbox/platform/event.c\n",
            "compiling.release core/src/tbox/tbox/src/tbox/platform/file.c\n",
            "compiling.release core/src/tbox/tbox/src/tbox/platform/filelock.c\n",
            "compiling.release core/src/tbox/tbox/src/tbox/platform/fwatcher.c\n",
            "compiling.release core/src/tbox/tbox/src/tbox/platform/hostname.c\n",
            "compiling.release core/src/tbox/tbox/src/tbox/platform/ifaddrs.c\n",
            "compiling.release core/src/tbox/tbox/src/tbox/platform/ltimer.c\n",
            "compiling.release core/src/tbox/tbox/src/tbox/platform/mutex.c\n",
            "compiling.release core/src/tbox/tbox/src/tbox/platform/native_memory.c\n",
            "compiling.release core/src/tbox/tbox/src/tbox/platform/page.c\n",
            "compiling.release core/src/tbox/tbox/src/tbox/platform/path.c\n",
            "compiling.release core/src/tbox/tbox/src/tbox/platform/pipe.c\n",
            "compiling.release core/src/tbox/tbox/src/tbox/platform/poller.c\n",
            "compiling.release core/src/tbox/tbox/src/tbox/platform/print.c\n",
            "compiling.release core/src/tbox/tbox/src/tbox/platform/process.c\n",
            "compiling.release core/src/tbox/tbox/src/tbox/platform/sched.c\n",
            "compiling.release core/src/tbox/tbox/src/tbox/platform/semaphore.c\n",
            "compiling.release core/src/tbox/tbox/src/tbox/platform/socket.c\n",
            "compiling.release core/src/tbox/tbox/src/tbox/platform/stdfile.c\n",
            "compiling.release core/src/tbox/tbox/src/tbox/platform/syserror.c\n",
            "compiling.release core/src/tbox/tbox/src/tbox/platform/thread.c\n",
            "compiling.release core/src/tbox/tbox/src/tbox/platform/thread_local.c\n",
            "compiling.release core/src/tbox/tbox/src/tbox/platform/thread_pool.c\n",
            "compiling.release core/src/tbox/tbox/src/tbox/platform/time.c\n",
            "compiling.release core/src/tbox/tbox/src/tbox/platform/timer.c\n",
            "compiling.release core/src/tbox/tbox/src/tbox/platform/virtual_memory.c\n",
            "compiling.release core/src/tbox/tbox/src/tbox/platform/impl/platform.c\n",
            "compiling.release core/src/tbox/tbox/src/tbox/platform/impl/pollerdata.c\n",
            "compiling.release core/src/tbox/tbox/src/tbox/platform/impl/dns.c\n",
            "compiling.release core/src/tbox/tbox/src/tbox/libm/acos.c\n",
            "compiling.release core/src/tbox/tbox/src/tbox/libm/acosf.c\n",
            "compiling.release core/src/tbox/tbox/src/tbox/libm/asin.c\n",
            "compiling.release core/src/tbox/tbox/src/tbox/libm/asinf.c\n",
            "compiling.release core/src/tbox/tbox/src/tbox/libm/atan.c\n",
            "compiling.release core/src/tbox/tbox/src/tbox/libm/atan2.c\n",
            "compiling.release core/src/tbox/tbox/src/tbox/libm/atan2f.c\n",
            "compiling.release core/src/tbox/tbox/src/tbox/libm/atanf.c\n",
            "compiling.release core/src/tbox/tbox/src/tbox/libm/cos.c\n",
            "compiling.release core/src/tbox/tbox/src/tbox/libm/cosf.c\n",
            "compiling.release core/src/tbox/tbox/src/tbox/libm/exp.c\n",
            "compiling.release core/src/tbox/tbox/src/tbox/libm/exp1.c\n",
            "compiling.release core/src/tbox/tbox/src/tbox/libm/exp1f.c\n",
            "compiling.release core/src/tbox/tbox/src/tbox/libm/expf.c\n",
            "compiling.release core/src/tbox/tbox/src/tbox/libm/expi.c\n",
            "compiling.release core/src/tbox/tbox/src/tbox/libm/expif.c\n",
            "compiling.release core/src/tbox/tbox/src/tbox/libm/fmod.c\n",
            "compiling.release core/src/tbox/tbox/src/tbox/libm/fmodf.c\n",
            "compiling.release core/src/tbox/tbox/src/tbox/libm/isfin.c\n",
            "compiling.release core/src/tbox/tbox/src/tbox/libm/isfinf.c\n",
            "compiling.release core/src/tbox/tbox/src/tbox/libm/isinf.c\n",
            "compiling.release core/src/tbox/tbox/src/tbox/libm/isinff.c\n",
            "compiling.release core/src/tbox/tbox/src/tbox/libm/isnan.c\n",
            "compiling.release core/src/tbox/tbox/src/tbox/libm/isnanf.c\n",
            "compiling.release core/src/tbox/tbox/src/tbox/libm/log2.c\n",
            "compiling.release core/src/tbox/tbox/src/tbox/libm/log2f.c\n",
            "compiling.release core/src/tbox/tbox/src/tbox/libm/pow.c\n",
            "compiling.release core/src/tbox/tbox/src/tbox/libm/powf.c\n",
            "compiling.release core/src/tbox/tbox/src/tbox/libm/sin.c\n",
            "compiling.release core/src/tbox/tbox/src/tbox/libm/sincos.c\n",
            "compiling.release core/src/tbox/tbox/src/tbox/libm/sincosf.c\n",
            "compiling.release core/src/tbox/tbox/src/tbox/libm/sinf.c\n",
            "compiling.release core/src/tbox/tbox/src/tbox/libm/sqrt.c\n",
            "compiling.release core/src/tbox/tbox/src/tbox/libm/sqrtf.c\n",
            "compiling.release core/src/tbox/tbox/src/tbox/libm/tan.c\n",
            "compiling.release core/src/tbox/tbox/src/tbox/libm/tanf.c\n",
            "compiling.release core/src/tbox/tbox/src/tbox/hash/ap.c\n",
            "compiling.release core/src/tbox/tbox/src/tbox/hash/blizzard.c\n",
            "compiling.release core/src/tbox/tbox/src/tbox/hash/crc16.c\n",
            "compiling.release core/src/tbox/tbox/src/tbox/hash/crc32.c\n",
            "compiling.release core/src/tbox/tbox/src/tbox/hash/crc8.c\n",
            "compiling.release core/src/tbox/tbox/src/tbox/hash/djb2.c\n",
            "compiling.release core/src/tbox/tbox/src/tbox/hash/fnv64.c\n",
            "compiling.release core/src/tbox/tbox/src/tbox/hash/md5.c\n",
            "compiling.release core/src/tbox/tbox/src/tbox/hash/murmur.c\n",
            "compiling.release core/src/tbox/tbox/src/tbox/hash/sdbm.c\n",
            "compiling.release core/src/tbox/tbox/src/tbox/hash/rs.c\n",
            "compiling.release core/src/tbox/tbox/src/tbox/hash/sha.c\n",
            "compiling.release core/src/tbox/tbox/src/tbox/hash/uuid.c\n",
            "compiling.release core/src/tbox/tbox/src/tbox/hash/arch/crc32.S\n",
            "compiling.release core/src/tbox/tbox/src/tbox/charset/gb2312.c\n",
            "compiling.release core/src/tbox/tbox/src/tbox/charset/utf32.c\n",
            "compiling.release core/src/tbox/tbox/src/tbox/charset/iso8859.c\n",
            "compiling.release core/src/tbox/tbox/src/tbox/charset/ucs2.c\n",
            "compiling.release core/src/tbox/tbox/src/tbox/charset/utf16.c\n",
            "compiling.release core/src/tbox/tbox/src/tbox/charset/ucs4.c\n",
            "compiling.release core/src/tbox/tbox/src/tbox/charset/charset.c\n",
            "compiling.release core/src/tbox/tbox/src/tbox/charset/ascii.c\n",
            "compiling.release core/src/tbox/tbox/src/tbox/charset/utf8.c\n",
            "compiling.release core/src/tbox/tbox/src/tbox/platform/impl/charset.c\n",
            "compiling.release core/src/tbox/tbox/src/tbox/stream/impl/filter/charset.c\n",
            "linking.release build/linux/x86_64/release/libtbox.a\n",
            "compiling.release core/src/xmake/engine.c\n",
            "compiling.release core/src/xmake/xmake.c\n",
            "compiling.release core/src/xmake/base64/decode.c\n",
            "compiling.release core/src/xmake/base64/encode.c\n",
            "compiling.release core/src/xmake/bloom_filter/bloom_filter_clear.c\n",
            "compiling.release core/src/xmake/bloom_filter/bloom_filter_get.c\n",
            "compiling.release core/src/xmake/bloom_filter/bloom_filter_open.c\n",
            "compiling.release core/src/xmake/bloom_filter/bloom_filter_data.c\n",
            "compiling.release core/src/xmake/bloom_filter/bloom_filter_set.c\n",
            "compiling.release core/src/xmake/bloom_filter/bloom_filter_size.c\n",
            "compiling.release core/src/xmake/bloom_filter/bloom_filter_close.c\n",
            "compiling.release core/src/xmake/bloom_filter/bloom_filter_data_set.c\n",
            "compiling.release core/src/xmake/curses/curses.c\n",
            "compiling.release core/src/xmake/fwatcher/remove.c\n",
            "compiling.release core/src/xmake/fwatcher/close.c\n",
            "compiling.release core/src/xmake/fwatcher/wait.c\n",
            "compiling.release core/src/xmake/fwatcher/add.c\n",
            "compiling.release core/src/xmake/fwatcher/open.c\n",
            "compiling.release core/src/xmake/hash/uuid4.c\n",
            "compiling.release core/src/xmake/hash/md5.c\n",
            "compiling.release core/src/xmake/hash/sha.c\n",
            "compiling.release core/src/xmake/hash/xxhash.c\n",
            "compiling.release core/src/xmake/io/poller.c\n",
            "compiling.release core/src/xmake/io/pipe_connect.c\n",
            "compiling.release core/src/xmake/io/pipe_read.c\n",
            "compiling.release core/src/xmake/io/poller_modify.c\n",
            "compiling.release core/src/xmake/io/file_readable.c\n",
            "compiling.release core/src/xmake/io/file_size.c\n",
            "compiling.release core/src/xmake/io/socket_kill.c\n",
            "compiling.release core/src/xmake/io/filelock_close.c\n",
            "compiling.release core/src/xmake/io/socket_connect.c\n",
            "compiling.release core/src/xmake/io/file_isatty.c\n",
            "compiling.release core/src/xmake/io/filelock_unlock.c\n",
            "compiling.release core/src/xmake/io/pipe_open.c\n",
            "compiling.release core/src/xmake/io/file_close.c\n",
            "compiling.release core/src/xmake/io/socket_sendfile.c\n",
            "compiling.release core/src/xmake/io/socket_sendto.c\n",
            "compiling.release core/src/xmake/io/socket_wait.c\n",
            "compiling.release core/src/xmake/io/socket_listen.c\n",
            "compiling.release core/src/xmake/io/pipe_close.c\n",
            "compiling.release core/src/xmake/io/socket_ctrl.c\n",
            "compiling.release core/src/xmake/io/pipe_write.c\n",
            "compiling.release core/src/xmake/io/poller_insert.c\n",
            "compiling.release core/src/xmake/io/poller_spank.c\n",
            "compiling.release core/src/xmake/io/filelock_lock.c\n",
            "compiling.release core/src/xmake/io/iscygpty.c\n",
            "compiling.release core/src/xmake/io/socket_recv.c\n",
            "compiling.release core/src/xmake/io/socket_close.c\n",
            "compiling.release core/src/xmake/io/filelock_open.c\n",
            "compiling.release core/src/xmake/io/file_read.c\n",
            "compiling.release core/src/xmake/io/file_seek.c\n",
            "compiling.release core/src/xmake/io/socket_bind.c\n",
            "compiling.release core/src/xmake/io/socket_peeraddr.c\n",
            "compiling.release core/src/xmake/io/poller_wait.c\n",
            "compiling.release core/src/xmake/io/pipe_openpair.c\n",
            "compiling.release core/src/xmake/io/poller_support.c\n",
            "compiling.release core/src/xmake/io/stdfile.c\n",
            "compiling.release core/src/xmake/io/poller_remove.c\n",
            "compiling.release core/src/xmake/io/filelock_trylock.c\n",
            "compiling.release core/src/xmake/io/socket_rawfd.c\n",
            "compiling.release core/src/xmake/io/file_write.c\n",
            "compiling.release core/src/xmake/io/file_rawfd.c\n",
            "compiling.release core/src/xmake/io/socket_open.c\n",
            "compiling.release core/src/xmake/io/socket_recvfrom.c\n",
            "compiling.release core/src/xmake/io/pipe_wait.c\n",
            "compiling.release core/src/xmake/io/socket_send.c\n",
            "compiling.release core/src/xmake/io/file_flush.c\n",
            "compiling.release core/src/xmake/io/file_open.c\n",
            "compiling.release core/src/xmake/io/socket_accept.c\n",
            "compiling.release core/src/xmake/libc/free.c\n",
            "compiling.release core/src/xmake/libc/dataptr.c\n",
            "compiling.release core/src/xmake/libc/setbyte.c\n",
            "compiling.release core/src/xmake/libc/memmov.c\n",
            "compiling.release core/src/xmake/libc/malloc.c\n",
            "compiling.release core/src/xmake/libc/memcpy.c\n",
            "compiling.release core/src/xmake/libc/byteof.c\n",
            "compiling.release core/src/xmake/libc/strndup.c\n",
            "compiling.release core/src/xmake/libc/memset.c\n",
            "compiling.release core/src/xmake/lz4/block_compress.c\n",
            "compiling.release core/src/xmake/lz4/compress_stream_read.c\n",
            "compiling.release core/src/xmake/lz4/decompress_stream_open.c\n",
            "compiling.release core/src/xmake/lz4/decompress_file.c\n",
            "compiling.release core/src/xmake/lz4/decompress_stream_write.c\n",
            "compiling.release core/src/xmake/lz4/decompress_stream_close.c\n",
            "compiling.release core/src/xmake/lz4/decompress.c\n",
            "compiling.release core/src/xmake/lz4/decompress_stream_read.c\n",
            "compiling.release core/src/xmake/lz4/compress_stream_write.c\n",
            "compiling.release core/src/xmake/lz4/block_decompress.c\n",
            "compiling.release core/src/xmake/lz4/compress_file.c\n",
            "compiling.release core/src/xmake/lz4/compress_stream_open.c\n",
            "compiling.release core/src/xmake/lz4/compress.c\n",
            "compiling.release core/src/xmake/lz4/compress_stream_close.c\n",
            "compiling.release core/src/xmake/os/uid.c\n",
            "compiling.release core/src/xmake/os/getenv.c\n",
            "compiling.release core/src/xmake/os/readlink.c\n",
            "compiling.release core/src/xmake/os/touch.c\n",
            "compiling.release core/src/xmake/os/signal.c\n",
            "compiling.release core/src/xmake/os/getwinsize.c\n",
            "compiling.release core/src/xmake/os/tmpdir.c\n",
            "compiling.release core/src/xmake/os/argv.c\n",
            "compiling.release core/src/xmake/os/chdir.c\n",
            "compiling.release core/src/xmake/os/gid.c\n",
            "compiling.release core/src/xmake/os/meminfo.c\n",
            "compiling.release core/src/xmake/os/fscase.c\n",
            "compiling.release core/src/xmake/os/rmdir.c\n",
            "compiling.release core/src/xmake/os/mkdir.c\n",
            "compiling.release core/src/xmake/os/cpuinfo.c\n",
            "compiling.release core/src/xmake/os/mclock.c\n",
            "compiling.release core/src/xmake/os/sleep.c\n",
            "compiling.release core/src/xmake/os/getown.c\n",
            "compiling.release core/src/xmake/os/setenv.c\n",
            "compiling.release core/src/xmake/os/cpdir.c\n",
            "compiling.release core/src/xmake/os/syserror.c\n",
            "compiling.release core/src/xmake/os/isdir.c\n",
            "compiling.release core/src/xmake/os/islink.c\n",
            "compiling.release core/src/xmake/os/exists.c\n",
            "compiling.release core/src/xmake/os/isfile.c\n",
            "compiling.release core/src/xmake/os/getenvs.c\n",
            "compiling.release core/src/xmake/os/strerror.c\n",
            "compiling.release core/src/xmake/os/rmfile.c\n",
            "compiling.release core/src/xmake/os/curdir.c\n",
            "compiling.release core/src/xmake/os/emptydir.c\n",
            "compiling.release core/src/xmake/os/filesize.c\n",
            "compiling.release core/src/xmake/os/cpfile.c\n",
            "compiling.release core/src/xmake/os/link.c\n",
            "compiling.release core/src/xmake/os/mtime.c\n",
            "compiling.release core/src/xmake/os/find.c\n",
            "compiling.release core/src/xmake/os/getpid.c\n",
            "compiling.release core/src/xmake/os/args.c\n",
            "compiling.release core/src/xmake/os/rename.c\n",
            "compiling.release core/src/xmake/path/relative.c\n",
            "compiling.release core/src/xmake/path/absolute.c\n",
            "compiling.release core/src/xmake/path/is_absolute.c\n",
            "compiling.release core/src/xmake/path/directory.c\n",
            "compiling.release core/src/xmake/path/translate.c\n",
            "compiling.release core/src/xmake/package/loadxmi.c\n",
            "compiling.release core/src/xmake/process/close.c\n",
            "compiling.release core/src/xmake/process/openv.c\n",
            "compiling.release core/src/xmake/process/wait.c\n",
            "compiling.release core/src/xmake/process/kill.c\n",
            "compiling.release core/src/xmake/process/open.c\n",
            "compiling.release core/src/xmake/readline/add_history.c\n",
            "compiling.release core/src/xmake/readline/history_list.c\n",
            "compiling.release core/src/xmake/readline/clear_history.c\n",
            "compiling.release core/src/xmake/readline/readline.c\n",
            "compiling.release core/src/xmake/sandbox/interactive.c\n",
            "compiling.release core/src/xmake/semver/compare.c\n",
            "compiling.release core/src/xmake/semver/select.c\n",
            "compiling.release core/src/xmake/semver/satisfies.c\n",
            "compiling.release core/src/xmake/semver/parse.c\n",
            "compiling.release core/src/xmake/semver/semver.c\n",
            "compiling.release core/src/xmake/string/trim.c\n",
            "compiling.release core/src/xmake/string/convert.c\n",
            "compiling.release core/src/xmake/string/endswith.c\n",
            "compiling.release core/src/xmake/string/lastof.c\n",
            "compiling.release core/src/xmake/string/startswith.c\n",
            "compiling.release core/src/xmake/string/split.c\n",
            "compiling.release core/src/xmake/tty/term_mode.c\n",
            "linking.release build/linux/x86_64/release/libxmake.a\n",
            "compiling.release core/src/demo/xmake.c\n",
            "linking.release build/xmake\n",
            "installing build/xmake to /root/.local/bin\n",
            "\u001b[0m\u001b[1mxmake v2.9.3+20240630, A cross-platform build utility based on Lua\u001b[0m\u001b[0m\n",
            "\u001b[0mCopyright (C) 2015-present Ruki Wang, \u001b[4mtboox.org\u001b[0m, \u001b[4mxmake.io\u001b[0m\u001b[0m\n",
            "\u001b[0m\u001b[1;38;5;41m \u001b[1;38;5;41m \u001b[1;38;5;41m \u001b[1;38;5;41m \u001b[1;38;5;41m \u001b[1;38;5;41m \u001b[1;38;5;41m \u001b[1;38;5;41m \u001b[1;38;5;41m \u001b[1;38;5;41m \u001b[1;38;5;41m \u001b[1;38;5;41m \u001b[1;38;5;42m \u001b[1;38;5;42m \u001b[1;38;5;42m \u001b[1;38;5;42m \u001b[1;38;5;42m \u001b[1;38;5;42m \u001b[1;38;5;42m \u001b[1;38;5;42m \u001b[1;38;5;42m \u001b[1;38;5;42m \u001b[1;38;5;42m \u001b[1;38;5;42m \u001b[1;38;5;42m \u001b[1;38;5;42m_\n",
            "\u001b[1;38;5;41m \u001b[1;38;5;41m \u001b[1;38;5;41m \u001b[1;38;5;41m \u001b[1;38;5;41m_\u001b[1;38;5;41m_\u001b[1;38;5;41m \u001b[1;38;5;41m \u001b[1;38;5;41m_\u001b[1;38;5;41m_\u001b[1;38;5;41m_\u001b[1;38;5;41m \u001b[1;38;5;42m_\u001b[1;38;5;42m_\u001b[1;38;5;42m \u001b[1;38;5;42m \u001b[1;38;5;42m_\u001b[1;38;5;42m_\u001b[1;38;5;42m \u001b[1;38;5;42m \u001b[1;38;5;42m_\u001b[1;38;5;42m_\u001b[1;38;5;42m \u001b[1;38;5;42m_\u001b[1;38;5;42m|\u001b[1;38;5;42m \u001b[1;38;5;42m|\u001b[1;38;5;42m \u001b[1;38;5;42m_\u001b[1;38;5;42m_\u001b[1;38;5;42m_\u001b[1;38;5;42m_\u001b[1;38;5;42m_\u001b[1;38;5;42m_\n",
            "\u001b[1;38;5;41m \u001b[1;38;5;41m \u001b[1;38;5;41m \u001b[1;38;5;41m \u001b[1;38;5;41m\\\u001b[1;38;5;41m \u001b[1;38;5;41m\\\u001b[1;38;5;41m/\u001b[1;38;5;41m \u001b[1;38;5;41m/\u001b[1;38;5;41m \u001b[1;38;5;41m|\u001b[1;38;5;42m \u001b[1;38;5;42m \u001b[1;38;5;42m\\\u001b[1;38;5;42m/\u001b[1;38;5;42m \u001b[1;38;5;42m \u001b[1;38;5;42m|\u001b[1;38;5;42m/\u001b[1;38;5;42m \u001b[1;38;5;42m_\u001b[1;38;5;42m \u001b[1;38;5;42m \u001b[1;38;5;42m|\u001b[1;38;5;42m \u001b[1;38;5;42m|\u001b[1;38;5;42m/\u001b[1;38;5;42m \u001b[1;38;5;42m/\u001b[1;38;5;42m \u001b[1;38;5;42m_\u001b[1;38;5;42m_\u001b[1;38;5;42m \u001b[1;38;5;42m\\\n",
            "\u001b[1;38;5;41m \u001b[1;38;5;41m \u001b[1;38;5;41m \u001b[1;38;5;41m \u001b[1;38;5;41m \u001b[1;38;5;41m>\u001b[1;38;5;41m \u001b[1;38;5;41m \u001b[1;38;5;41m<\u001b[1;38;5;41m \u001b[1;38;5;41m \u001b[1;38;5;41m|\u001b[1;38;5;42m \u001b[1;38;5;42m\\\u001b[1;38;5;42m_\u001b[1;38;5;42m_\u001b[1;38;5;42m/\u001b[1;38;5;42m \u001b[1;38;5;42m|\u001b[1;38;5;42m \u001b[1;38;5;42m/\u001b[1;38;5;42m_\u001b[1;38;5;42m|\u001b[1;38;5;42m \u001b[1;38;5;42m|\u001b[1;38;5;42m \u001b[1;38;5;42m \u001b[1;38;5;42m \u001b[1;38;5;42m<\u001b[1;38;5;42m \u001b[1;38;5;42m \u001b[1;38;5;42m_\u001b[1;38;5;42m_\u001b[1;38;5;42m_\u001b[1;38;5;42m/\n",
            "\u001b[1;38;5;41m \u001b[1;38;5;41m \u001b[1;38;5;41m \u001b[1;38;5;41m \u001b[1;38;5;41m/\u001b[1;38;5;41m_\u001b[1;38;5;41m/\u001b[1;38;5;41m\\\u001b[1;38;5;41m_\u001b[1;38;5;41m\\\u001b[1;38;5;41m_\u001b[1;38;5;41m|\u001b[1;38;5;42m_\u001b[1;38;5;42m|\u001b[1;38;5;42m \u001b[1;38;5;42m \u001b[1;38;5;42m|\u001b[1;38;5;42m_\u001b[1;38;5;42m|\u001b[1;38;5;42m\\\u001b[1;38;5;42m_\u001b[1;38;5;42m_\u001b[1;38;5;42m \u001b[1;38;5;42m\\\u001b[1;38;5;42m|\u001b[1;38;5;42m_\u001b[1;38;5;42m|\u001b[1;38;5;42m\\\u001b[1;38;5;42m_\u001b[1;38;5;42m\\\u001b[1;38;5;42m_\u001b[1;38;5;42m_\u001b[1;38;5;42m_\u001b[1;38;5;42m_\u001b[1;38;5;42m|\n",
            "\u001b[1;38;5;41m \u001b[1;38;5;41m \u001b[1;38;5;41m \u001b[1;38;5;41m \u001b[1;38;5;41m \u001b[1;38;5;41m \u001b[1;38;5;41m \u001b[1;38;5;41m \u001b[1;38;5;41m \u001b[1;38;5;41m \u001b[1;38;5;41m \u001b[1;38;5;41m \u001b[1;38;5;42m \u001b[1;38;5;42m \u001b[1;38;5;42m \u001b[1;38;5;42m \u001b[1;38;5;42m \u001b[1;38;5;42m \u001b[1;38;5;42m \u001b[1;38;5;42m \u001b[1;38;5;42m \u001b[1;38;5;42m \u001b[1;38;5;42m \u001b[1;38;5;42m \u001b[1;38;5;42m \u001b[1;38;5;42mb\u001b[1;38;5;42my\u001b[1;38;5;42m \u001b[1;38;5;42mr\u001b[1;38;5;42mu\u001b[1;38;5;42mk\u001b[1;38;5;42mi\u001b[1;38;5;42m,\u001b[1;38;5;42m \u001b[1;38;5;42mx\u001b[1;38;5;42mm\u001b[1;38;5;42ma\u001b[1;38;5;42mk\u001b[1;38;5;42me\u001b[1;38;5;42m.\u001b[1;38;5;42mi\u001b[1;38;5;42mo\n",
            "\u001b[1;38;5;41m \u001b[1;38;5;41m \u001b[1;38;5;41m \u001b[1;38;5;41m \u001b[0m\n",
            "\u001b[0m    👉  \u001b[1mManual\u001b[0m: \u001b[4mhttps://xmake.io/#/getting_started\u001b[0m\n",
            "    🙏  \u001b[1mDonate\u001b[0m: \u001b[4mhttps://xmake.io/#/sponsor\u001b[0m\n",
            "    \u001b[0m\n",
            "\u001b[38;5;3m  => \u001b[0minstalling shell integration to ~/.bashrc .. \u001b[0m\u001b[0m\u001b[38;5;2;1mok\u001b[0m\n",
            "Reload shell profile by running the following command now!\n",
            "\u001b[0m\u001b[1msource ~/.xmake/profile\u001b[0m\u001b[0m\n"
          ]
        }
      ]
    },
    {
      "cell_type": "code",
      "source": [
        "!source ~/.xmake/profile && xmake --version --root"
      ],
      "metadata": {
        "colab": {
          "base_uri": "https://localhost:8080/"
        },
        "id": "qdgYcxQCV4iJ",
        "outputId": "eb3440c1-c0a5-448e-8a72-188476d983f9"
      },
      "execution_count": 7,
      "outputs": [
        {
          "output_type": "stream",
          "name": "stdout",
          "text": [
            "\u001b[0m\u001b[1mxmake v2.9.3+20240630, A cross-platform build utility based on Lua\u001b[0m\u001b[0m\n",
            "\u001b[0mCopyright (C) 2015-present Ruki Wang, \u001b[4mtboox.org\u001b[0m, \u001b[4mxmake.io\u001b[0m\u001b[0m\n",
            "\u001b[0m\u001b[1;38;5;41m \u001b[1;38;5;41m \u001b[1;38;5;41m \u001b[1;38;5;41m \u001b[1;38;5;41m \u001b[1;38;5;41m \u001b[1;38;5;41m \u001b[1;38;5;41m \u001b[1;38;5;41m \u001b[1;38;5;41m \u001b[1;38;5;41m \u001b[1;38;5;41m \u001b[1;38;5;42m \u001b[1;38;5;42m \u001b[1;38;5;42m \u001b[1;38;5;42m \u001b[1;38;5;42m \u001b[1;38;5;42m \u001b[1;38;5;42m \u001b[1;38;5;42m \u001b[1;38;5;42m \u001b[1;38;5;42m \u001b[1;38;5;42m \u001b[1;38;5;42m \u001b[1;38;5;42m \u001b[1;38;5;42m_\n",
            "\u001b[1;38;5;41m \u001b[1;38;5;41m \u001b[1;38;5;41m \u001b[1;38;5;41m \u001b[1;38;5;41m_\u001b[1;38;5;41m_\u001b[1;38;5;41m \u001b[1;38;5;41m \u001b[1;38;5;41m_\u001b[1;38;5;41m_\u001b[1;38;5;41m_\u001b[1;38;5;41m \u001b[1;38;5;42m_\u001b[1;38;5;42m_\u001b[1;38;5;42m \u001b[1;38;5;42m \u001b[1;38;5;42m_\u001b[1;38;5;42m_\u001b[1;38;5;42m \u001b[1;38;5;42m \u001b[1;38;5;42m_\u001b[1;38;5;42m_\u001b[1;38;5;42m \u001b[1;38;5;42m_\u001b[1;38;5;42m|\u001b[1;38;5;42m \u001b[1;38;5;42m|\u001b[1;38;5;42m \u001b[1;38;5;42m_\u001b[1;38;5;42m_\u001b[1;38;5;42m_\u001b[1;38;5;42m_\u001b[1;38;5;42m_\u001b[1;38;5;42m_\n",
            "\u001b[1;38;5;41m \u001b[1;38;5;41m \u001b[1;38;5;41m \u001b[1;38;5;41m \u001b[1;38;5;41m\\\u001b[1;38;5;41m \u001b[1;38;5;41m\\\u001b[1;38;5;41m/\u001b[1;38;5;41m \u001b[1;38;5;41m/\u001b[1;38;5;41m \u001b[1;38;5;41m|\u001b[1;38;5;42m \u001b[1;38;5;42m \u001b[1;38;5;42m\\\u001b[1;38;5;42m/\u001b[1;38;5;42m \u001b[1;38;5;42m \u001b[1;38;5;42m|\u001b[1;38;5;42m/\u001b[1;38;5;42m \u001b[1;38;5;42m_\u001b[1;38;5;42m \u001b[1;38;5;42m \u001b[1;38;5;42m|\u001b[1;38;5;42m \u001b[1;38;5;42m|\u001b[1;38;5;42m/\u001b[1;38;5;42m \u001b[1;38;5;42m/\u001b[1;38;5;42m \u001b[1;38;5;42m_\u001b[1;38;5;42m_\u001b[1;38;5;42m \u001b[1;38;5;42m\\\n",
            "\u001b[1;38;5;41m \u001b[1;38;5;41m \u001b[1;38;5;41m \u001b[1;38;5;41m \u001b[1;38;5;41m \u001b[1;38;5;41m>\u001b[1;38;5;41m \u001b[1;38;5;41m \u001b[1;38;5;41m<\u001b[1;38;5;41m \u001b[1;38;5;41m \u001b[1;38;5;41m|\u001b[1;38;5;42m \u001b[1;38;5;42m\\\u001b[1;38;5;42m_\u001b[1;38;5;42m_\u001b[1;38;5;42m/\u001b[1;38;5;42m \u001b[1;38;5;42m|\u001b[1;38;5;42m \u001b[1;38;5;42m/\u001b[1;38;5;42m_\u001b[1;38;5;42m|\u001b[1;38;5;42m \u001b[1;38;5;42m|\u001b[1;38;5;42m \u001b[1;38;5;42m \u001b[1;38;5;42m \u001b[1;38;5;42m<\u001b[1;38;5;42m \u001b[1;38;5;42m \u001b[1;38;5;42m_\u001b[1;38;5;42m_\u001b[1;38;5;42m_\u001b[1;38;5;42m/\n",
            "\u001b[1;38;5;41m \u001b[1;38;5;41m \u001b[1;38;5;41m \u001b[1;38;5;41m \u001b[1;38;5;41m/\u001b[1;38;5;41m_\u001b[1;38;5;41m/\u001b[1;38;5;41m\\\u001b[1;38;5;41m_\u001b[1;38;5;41m\\\u001b[1;38;5;41m_\u001b[1;38;5;41m|\u001b[1;38;5;42m_\u001b[1;38;5;42m|\u001b[1;38;5;42m \u001b[1;38;5;42m \u001b[1;38;5;42m|\u001b[1;38;5;42m_\u001b[1;38;5;42m|\u001b[1;38;5;42m\\\u001b[1;38;5;42m_\u001b[1;38;5;42m_\u001b[1;38;5;42m \u001b[1;38;5;42m\\\u001b[1;38;5;42m|\u001b[1;38;5;42m_\u001b[1;38;5;42m|\u001b[1;38;5;42m\\\u001b[1;38;5;42m_\u001b[1;38;5;42m\\\u001b[1;38;5;42m_\u001b[1;38;5;42m_\u001b[1;38;5;42m_\u001b[1;38;5;42m_\u001b[1;38;5;42m|\n",
            "\u001b[1;38;5;41m \u001b[1;38;5;41m \u001b[1;38;5;41m \u001b[1;38;5;41m \u001b[1;38;5;41m \u001b[1;38;5;41m \u001b[1;38;5;41m \u001b[1;38;5;41m \u001b[1;38;5;41m \u001b[1;38;5;41m \u001b[1;38;5;41m \u001b[1;38;5;41m \u001b[1;38;5;42m \u001b[1;38;5;42m \u001b[1;38;5;42m \u001b[1;38;5;42m \u001b[1;38;5;42m \u001b[1;38;5;42m \u001b[1;38;5;42m \u001b[1;38;5;42m \u001b[1;38;5;42m \u001b[1;38;5;42m \u001b[1;38;5;42m \u001b[1;38;5;42m \u001b[1;38;5;42m \u001b[1;38;5;42mb\u001b[1;38;5;42my\u001b[1;38;5;42m \u001b[1;38;5;42mr\u001b[1;38;5;42mu\u001b[1;38;5;42mk\u001b[1;38;5;42mi\u001b[1;38;5;42m,\u001b[1;38;5;42m \u001b[1;38;5;42mx\u001b[1;38;5;42mm\u001b[1;38;5;42ma\u001b[1;38;5;42mk\u001b[1;38;5;42me\u001b[1;38;5;42m.\u001b[1;38;5;42mi\u001b[1;38;5;42mo\n",
            "\u001b[1;38;5;41m \u001b[1;38;5;41m \u001b[1;38;5;41m \u001b[1;38;5;41m \u001b[0m\n",
            "\u001b[0m    👉  \u001b[1mManual\u001b[0m: \u001b[4mhttps://xmake.io/#/getting_started\u001b[0m\n",
            "    🙏  \u001b[1mDonate\u001b[0m: \u001b[4mhttps://xmake.io/#/sponsor\u001b[0m\n",
            "    \u001b[0m\n"
          ]
        }
      ]
    },
    {
      "cell_type": "code",
      "source": [
        "%cd hedgehog-tokenizer"
      ],
      "metadata": {
        "colab": {
          "base_uri": "https://localhost:8080/"
        },
        "id": "aXQnDtf-UowH",
        "outputId": "89dfaeb6-7c82-4000-f9c7-34e6dd9b6592"
      },
      "execution_count": 8,
      "outputs": [
        {
          "output_type": "stream",
          "name": "stdout",
          "text": [
            "/content/hedgehog-tokenizer\n"
          ]
        }
      ]
    },
    {
      "cell_type": "code",
      "source": [
        "!git submodule update --init"
      ],
      "metadata": {
        "colab": {
          "base_uri": "https://localhost:8080/"
        },
        "id": "ETpwqWFYUw0x",
        "outputId": "96e2fad4-7bcf-4e60-d3aa-cb92c6b68799"
      },
      "execution_count": 9,
      "outputs": [
        {
          "output_type": "stream",
          "name": "stdout",
          "text": [
            "Submodule 'non-parametric-dsp' (https://github.com/Dimandragon/non-parametric-dsp) registered for path 'non-parametric-dsp'\n",
            "Cloning into '/content/hedgehog-tokenizer/non-parametric-dsp'...\n",
            "Submodule path 'non-parametric-dsp': checked out '9fe4aaf86befa06cb1b9fd517d76faefc227067a'\n"
          ]
        }
      ]
    },
    {
      "cell_type": "code",
      "source": [
        "%cd non-parametric-dsp"
      ],
      "metadata": {
        "colab": {
          "base_uri": "https://localhost:8080/"
        },
        "id": "CK7iAw8jU1xw",
        "outputId": "bd5b2b39-e8e0-4a34-a9ff-fdf0ba96f8e4"
      },
      "execution_count": 10,
      "outputs": [
        {
          "output_type": "stream",
          "name": "stdout",
          "text": [
            "/content/hedgehog-tokenizer/non-parametric-dsp\n"
          ]
        }
      ]
    },
    {
      "cell_type": "code",
      "source": [
        "!git submodule update --init"
      ],
      "metadata": {
        "colab": {
          "base_uri": "https://localhost:8080/"
        },
        "id": "sKwngpkiU2Jg",
        "outputId": "6e98e43a-bc82-4bdd-8389-19bcab8e8f12"
      },
      "execution_count": 11,
      "outputs": [
        {
          "output_type": "stream",
          "name": "stdout",
          "text": [
            "Submodule 'matplotplusplus' (https://github.com/alandefreitas/matplotplusplus/) registered for path 'matplotplusplus'\n",
            "Submodule 'pocketfft' (https://github.com/mreineck/pocketfft) registered for path 'pocketfft'\n",
            "Cloning into '/content/hedgehog-tokenizer/non-parametric-dsp/matplotplusplus'...\n",
            "Cloning into '/content/hedgehog-tokenizer/non-parametric-dsp/pocketfft'...\n",
            "Submodule path 'matplotplusplus': checked out '734e4876611ae6ed216da47a7eb5c4b8e39785ce'\n",
            "Submodule path 'pocketfft': checked out '33ae5dc94c9cdc7f1c78346504a85de87cadaa12'\n"
          ]
        }
      ]
    },
    {
      "cell_type": "code",
      "source": [
        "%cd ../"
      ],
      "metadata": {
        "colab": {
          "base_uri": "https://localhost:8080/"
        },
        "id": "JmFafIHNU6EG",
        "outputId": "8c896844-224d-4750-ec9c-fbae96f7b8a4"
      },
      "execution_count": 12,
      "outputs": [
        {
          "output_type": "stream",
          "name": "stdout",
          "text": [
            "/content/hedgehog-tokenizer\n"
          ]
        }
      ]
    },
    {
      "cell_type": "code",
      "source": [
        "!git submodule update --remote"
      ],
      "metadata": {
        "colab": {
          "base_uri": "https://localhost:8080/"
        },
        "id": "eGGc2Nk3U8py",
        "outputId": "f561d73a-1450-45d1-ee1f-aea265e59cc5"
      },
      "execution_count": 13,
      "outputs": [
        {
          "output_type": "stream",
          "name": "stdout",
          "text": [
            "Submodule path 'non-parametric-dsp': checked out 'c14fa9ce39e1ca62cc42dc4bba4e0fceee59a7b9'\n"
          ]
        }
      ]
    },
    {
      "cell_type": "code",
      "source": [
        "!source ~/.xmake/profile && xmake f --cxx=gcc-12 --cc=g++-12 --root"
      ],
      "metadata": {
        "colab": {
          "base_uri": "https://localhost:8080/"
        },
        "id": "ZMKoQaCUU_Vk",
        "outputId": "28fd6d84-277a-4750-942d-be49a781a506"
      },
      "execution_count": 14,
      "outputs": [
        {
          "output_type": "stream",
          "name": "stdout",
          "text": [
            "\u001b[0mchecking for platform ... \u001b[38;5;2;1mlinux\u001b[0m\n",
            "\u001b[0mchecking for architecture ... \u001b[38;5;2;1mx86_64\u001b[0m\n",
            "updating repositories .. \u001b[0m\u001b[2m(1/git)\u001b[0m \u001b[0m\u001b7⠋\u001b8\u001b[K\b\b\b\b\b\b\b\b        \b\b\b\b\b\b\b\b\u001b[0m\u001b[2m(1/git)\u001b[0m \u001b[0m\u001b7⠙\u001b8\u001b[K\b\b\b\b\b\b\b\b        \b\b\b\b\b\b\b\b\u001b[0m\u001b[2m(1/git)\u001b[0m \u001b[0m\u001b7⠹\u001b8\u001b[K\b\b\b\b\b\b\b\b        \b\b\b\b\b\b\b\b\u001b[0m\u001b[2m(1/git)\u001b[0m \u001b[0m\u001b7⠸\u001b8\u001b[K\b\b\b\b\b\b\b\b        \b\b\b\b\b\b\b\b\u001b[0m\u001b[2m(1/git)\u001b[0m \u001b[0m\u001b7⠼\u001b8\b\b\b\b\b\b\b\b        \b\b\b\b\b\b\b\b\u001b[K\u001b[0m\u001b[38;5;2mok\u001b[0m\n"
          ]
        }
      ]
    },
    {
      "cell_type": "code",
      "source": [
        "!source ~/.xmake/profile && xmake --root"
      ],
      "metadata": {
        "colab": {
          "base_uri": "https://localhost:8080/"
        },
        "id": "JG90L1b6VKHj",
        "outputId": "d8cf8ddb-8dab-4af1-a548-8042aca0c914"
      },
      "execution_count": null,
      "outputs": [
        {
          "output_type": "stream",
          "name": "stdout",
          "text": [
            "\u001b[0m\u001b[38;5;2;1m[ 80%]:\u001b[0m compiling.swig.python src/extractor.i\u001b[0m\n"
          ]
        }
      ]
    },
    {
      "cell_type": "code",
      "source": [],
      "metadata": {
        "id": "XkumbD65VNQV"
      },
      "execution_count": null,
      "outputs": []
    },
    {
      "cell_type": "markdown",
      "source": [],
      "metadata": {
        "id": "Lm-zMHS7UzQT"
      }
    }
  ]
}